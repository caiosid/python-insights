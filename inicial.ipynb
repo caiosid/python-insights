{
 "cells": [
  {
   "cell_type": "markdown",
   "metadata": {},
   "source": [
    "# Python Insights - Analisando Dados com Python\n",
    "\n",
    "### Case - Cancelamento de Clientes\n",
    "\n",
    "Você foi contratado por uma empresa com mais de 800 mil clientes para um projeto de Dados. Recentemente a empresa percebeu que da sua base total de clientes, a maioria são clientes inativos, ou seja, que já cancelaram o serviço.\n",
    "\n",
    "Precisando melhorar seus resultados ela quer conseguir entender os principais motivos desses cancelamentos e quais as ações mais eficientes para reduzir esse número.\n",
    "\n",
    "Base de dados e arquivos: https://drive.google.com/drive/folders/1uDesZePdkhiraJmiyeZ-w5tfc8XsNYFZ?usp=drive_link"
   ]
  },
  {
   "cell_type": "code",
   "execution_count": null,
   "metadata": {},
   "outputs": [],
   "source": [
    "!pip install pandas as pd\n",
    "!pip install numpy as np\n",
    "!pip install openpyxl\n",
    "!pip install nbformat\n",
    "!pip install plotly\n",
    "!pip install ipykernel"
   ]
  },
  {
   "cell_type": "code",
   "execution_count": null,
   "metadata": {},
   "outputs": [],
   "source": [
    "import pandas as pd\n",
    "\n",
    "tabela = pd.read_csv('cancelamentos_sample.csv')\n",
    "\n",
    "tabela = tabela.drop(columns=\"CustomerID\")\n",
    "display(tabela)\n",
    "\n",
    "display(tabela.info())\n",
    "\n",
    "tabela = tabela.dropna() \n",
    "\n",
    "display(tabela.info())\n",
    "\n",
    "print(tabela['cancelou'].value_counts())\n",
    "\n",
    "print(tabela['cancelou'].value_counts(normalize=False)) \n",
    "\n",
    "import plotly.express as px\n",
    "\n",
    "for coluna in tabela.columns:\n",
    "    grafico = px.histogram(tabela, x=coluna, color='cancelou', text_auto=True)\n",
    "\n",
    "\n",
    "tabela = tabela[tabela['duracao_contrato']!='Monthly']\n",
    "\n",
    "tabela = tabela[tabela['ligacoes_callcenter']<=4]\n",
    "\n",
    "tabela = tabela[tabela['dias_atraso'] <=20]\n",
    "\n",
    "display(tabela['cancelou'].value_counts())\n",
    "\n",
    "display(tabela['cancelou'].value_counts(normalize=True))\n"
   ]
  }
 ],
 "metadata": {
  "kernelspec": {
   "display_name": "Python 3",
   "language": "python",
   "name": "python3"
  },
  "language_info": {
   "codemirror_mode": {
    "name": "ipython",
    "version": 3
   },
   "file_extension": ".py",
   "mimetype": "text/x-python",
   "name": "python",
   "nbconvert_exporter": "python",
   "pygments_lexer": "ipython3",
   "version": "3.13.1"
  },
  "orig_nbformat": 4
 },
 "nbformat": 4,
 "nbformat_minor": 2
}
